{
 "cells": [
  {
   "cell_type": "markdown",
   "metadata": {},
   "source": [
    "##Aufgabe 1"
   ]
  },
  {
   "cell_type": "code",
   "execution_count": 1,
   "metadata": {
    "collapsed": true
   },
   "outputs": [],
   "source": [
    "import cPickle as pickle"
   ]
  },
  {
   "cell_type": "code",
   "execution_count": 16,
   "metadata": {
    "collapsed": false
   },
   "outputs": [
    {
     "name": "stdout",
     "output_type": "stream",
     "text": [
      "ATGTCTGCTGCTGCTGATAGATTAAACTTAACTTCCGGCCACTTGAATGCTGGTAGAAAGAGAAGTTCCTCTTCTGTTTCTTTGAAGGCTGCCGAAAAGCCTTTCAAGGTTACTGTGATTGGATCTGGTAACTGGGGTACTACTATTGCCAAGGTGGTTGCCGAAAATTGTAAGGGATACCCAGAAGTTTTCGCTCCAATAGTACAAATGTGGGTGTTCGAAGAAGAGATCAATGGTGAAAAATTGACTGAAATCATAAATACTAGACATCAAAACGTGAAATACTTGCCTGGCATCACTCTACCCGACAATTTGGTTGCTAATCCAGACTTGATTGATTCAGTCAAGGATGTCGACATCATCGTTTTCAACATTCCACATCAATTTTTGCCCCGTATCTGTAGCCAATTGAAAGGTCATGTTGATTCACACGTCAGAGCTATCTCCTGTCTAAAGGGTTTTGAAGTTGGTGCTAAAGGTGTCCAATTGCTATCCTCTTACATCACTGAGGAACTAGGTATTCAATGTGGTGCTCTATCTGGTGCTAACATTGCCACCGAAGTCGCTCAAGAACACTGGTCTGAAACAACAGTTGCTTACCACATTCCAAAGGATTTCAGAGGCGAGGGCAAGGACGTCGACCATAAGGTTCTAAAGGCCTTGTTCCACAGACCTTACTTCCACGTTAGTGTCATCGAAGATGTTGCTGGTATCTCCATCTGTGGTGCTTTGAAGAACGTTGTTGCCTTAGGTTGTGGTTTCGTCGAAGGTCTAGGCTGGGGTAACAACGCTTCTGCTGCCATCCAAAGAGTCGGTTTGGGTGAGATCATCAGATTCGGTCAAATGTTTTTCCCAGAATCTAGAGAAGAAACATACTACCAAGAGTCTGCTGGTGTTGCTGATTTGATCACCACCTGCGCTGGTGGTAGAAACGTCAAGGTTGCTAGGCTAATGGCTACTTCTGGTAAGGACGCCTGGGAATGTGAAAAGGAGTTGTTGAATGGCCAATCCGCTCAAGGTTTAATTACCTGCAAAGAAGTTCACGAATGGTTGGAAACATGTGGCTCTGTCGAAGACTTCCCATTATTTGAAGCCGTATACCAAATCGTTTACAACAACTACCCAATGAAGAACCTGCCGGACATGATTGAAGAATTAGATCTACATGAAGATTAG\n"
     ]
    }
   ],
   "source": [
    "with open('GPD1_seq.fasta', 'r') as f: \n",
    "    lines = f.readlines()\n",
    "seq=''\n",
    "for line in lines:\n",
    "    if line.startswith('>'): \n",
    "        continue\n",
    "    else:\n",
    "        seq=seq+ line.rstrip()\n",
    "print seq"
   ]
  },
  {
   "cell_type": "code",
   "execution_count": 30,
   "metadata": {
    "collapsed": false
   },
   "outputs": [],
   "source": [
    "def compute_nt_composition(sequence):\n",
    "    base_dict ={'A':0,'C':0,'T':0,'G':0}\n",
    "    for elem in sequence:\n",
    "        base_dict[elem]+=1\n",
    "    return base_dict"
   ]
  },
  {
   "cell_type": "code",
   "execution_count": 38,
   "metadata": {
    "collapsed": false
   },
   "outputs": [
    {
     "data": {
      "text/plain": [
       "{'A': 324, 'C': 240, 'G': 276, 'T': 336}"
      ]
     },
     "execution_count": 38,
     "metadata": {},
     "output_type": "execute_result"
    }
   ],
   "source": [
    "result = compute_nt_composition(seq)\n",
    "result "
   ]
  },
  {
   "cell_type": "code",
   "execution_count": 39,
   "metadata": {
    "collapsed": true
   },
   "outputs": [],
   "source": [
    "with open('save.p', 'w') as f:\n",
    "    pickle.dump(result, f)"
   ]
  },
  {
   "cell_type": "markdown",
   "metadata": {},
   "source": [
    "#Aufgabe 2"
   ]
  },
  {
   "cell_type": "code",
   "execution_count": 49,
   "metadata": {
    "collapsed": true
   },
   "outputs": [],
   "source": [
    "%matplotlib inline \n",
    "from pylab import *\n"
   ]
  },
  {
   "cell_type": "code",
   "execution_count": 56,
   "metadata": {
    "collapsed": false
   },
   "outputs": [
    {
     "data": {
      "image/png": "[encoded data removed]",
      "text/plain": [
       "<matplotlib.figure.Figure at 0x7f64286a0510>"
      ]
     },
     "metadata": {},
     "output_type": "display_data"
    }
   ],
   "source": [
    "xv=[1.0,2.0,3.0,4.0];yv=[324,240,276,336]\n",
    "mybar=bar(xv, yv, width=0.5)\n"
   ]
  },
  {
   "cell_type": "code",
   "execution_count": null,
   "metadata": {
    "collapsed": true
   },
   "outputs": [],
   "source": []
  }
 ],
 "metadata": {
  "kernelspec": {
   "display_name": "Python 2",
   "language": "python",
   "name": "python2"
  },
  "language_info": {
   "codemirror_mode": {
    "name": "ipython",
    "version": 2
   },
   "file_extension": ".py",
   "mimetype": "text/x-python",
   "name": "python",
   "nbconvert_exporter": "python",
   "pygments_lexer": "ipython2",
   "version": "2.7.6"
  }
 },
 "nbformat": 4,
 "nbformat_minor": 0
}
